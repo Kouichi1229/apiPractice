{
 "cells": [
  {
   "cell_type": "raw",
   "metadata": {},
   "source": [
    "import requests\n",
    "import json\n",
    "import pandas as pd\n",
    "\n",
    "url\n",
    "res=requests.get(url, verify=False) #http\n",
    "res=requests.get(url) #https\n",
    "res.status_code\n",
    "datum = res.json()"
   ]
  },
  {
   "cell_type": "code",
   "execution_count": 1,
   "metadata": {},
   "outputs": [],
   "source": [
    "import requests\n",
    "import json\n",
    "import pandas as pd"
   ]
  },
  {
   "cell_type": "code",
   "execution_count": 34,
   "metadata": {},
   "outputs": [],
   "source": [
    "url='https://opendata.cwb.gov.tw/api/v1/rest/datastore/O-A0001-001?Authorization=CWB-1EF84EFB-3A18-45EE-AF0A-5BB8D44C13F1'"
   ]
  },
  {
   "cell_type": "code",
   "execution_count": 35,
   "metadata": {},
   "outputs": [],
   "source": [
    "res=requests.get(url)"
   ]
  },
  {
   "cell_type": "code",
   "execution_count": 36,
   "metadata": {},
   "outputs": [
    {
     "data": {
      "text/plain": [
       "200"
      ]
     },
     "execution_count": 36,
     "metadata": {},
     "output_type": "execute_result"
    }
   ],
   "source": [
    "res.status_code"
   ]
  },
  {
   "cell_type": "code",
   "execution_count": 37,
   "metadata": {},
   "outputs": [],
   "source": [
    "datum = res.json()"
   ]
  },
  {
   "cell_type": "code",
   "execution_count": 38,
   "metadata": {},
   "outputs": [],
   "source": [
    "datum=datum['records']"
   ]
  },
  {
   "cell_type": "code",
   "execution_count": 39,
   "metadata": {},
   "outputs": [
    {
     "data": {
      "text/plain": [
       "{'lat': '24.778333',\n",
       " 'lon': '121.494583',\n",
       " 'locationName': '福山',\n",
       " 'stationId': 'C0A560',\n",
       " 'time': {'obsTime': '2021-11-22 17:00:00'},\n",
       " 'weatherElement': [{'elementName': 'ELEV', 'elementValue': '405.0'},\n",
       "  {'elementName': 'WDIR', 'elementValue': '304'},\n",
       "  {'elementName': 'WDSD', 'elementValue': '1.1'},\n",
       "  {'elementName': 'TEMP', 'elementValue': '12.8'},\n",
       "  {'elementName': 'HUMD', 'elementValue': '1'},\n",
       "  {'elementName': 'PRES', 'elementValue': '973.5'},\n",
       "  {'elementName': 'H_24R', 'elementValue': '-99'},\n",
       "  {'elementName': 'H_FX', 'elementValue': '-99'},\n",
       "  {'elementName': 'H_XD', 'elementValue': '-99'},\n",
       "  {'elementName': 'H_FXT', 'elementValue': '-99'},\n",
       "  {'elementName': 'D_TX', 'elementValue': '17.20'},\n",
       "  {'elementName': 'D_TXT', 'elementValue': '2021-11-22T08:40:00+08:00'},\n",
       "  {'elementName': 'D_TN', 'elementValue': '12.80'},\n",
       "  {'elementName': 'D_TNT', 'elementValue': '2021-11-22T17:00:00+08:00'}],\n",
       " 'parameter': [{'parameterName': 'CITY', 'parameterValue': '新北市'},\n",
       "  {'parameterName': 'CITY_SN', 'parameterValue': '06'},\n",
       "  {'parameterName': 'TOWN', 'parameterValue': '烏來區'},\n",
       "  {'parameterName': 'TOWN_SN', 'parameterValue': '061'}]}"
      ]
     },
     "execution_count": 39,
     "metadata": {},
     "output_type": "execute_result"
    }
   ],
   "source": [
    "datum['location'][0]"
   ]
  },
  {
   "cell_type": "code",
   "execution_count": 40,
   "metadata": {},
   "outputs": [
    {
     "data": {
      "text/plain": [
       "426"
      ]
     },
     "execution_count": 40,
     "metadata": {},
     "output_type": "execute_result"
    }
   ],
   "source": [
    "len(datum['location'])"
   ]
  },
  {
   "cell_type": "code",
   "execution_count": 41,
   "metadata": {},
   "outputs": [
    {
     "data": {
      "text/plain": [
       "[{'elementName': 'ELEV', 'elementValue': '405.0'},\n",
       " {'elementName': 'WDIR', 'elementValue': '304'},\n",
       " {'elementName': 'WDSD', 'elementValue': '1.1'},\n",
       " {'elementName': 'TEMP', 'elementValue': '12.8'},\n",
       " {'elementName': 'HUMD', 'elementValue': '1'},\n",
       " {'elementName': 'PRES', 'elementValue': '973.5'},\n",
       " {'elementName': 'H_24R', 'elementValue': '-99'},\n",
       " {'elementName': 'H_FX', 'elementValue': '-99'},\n",
       " {'elementName': 'H_XD', 'elementValue': '-99'},\n",
       " {'elementName': 'H_FXT', 'elementValue': '-99'},\n",
       " {'elementName': 'D_TX', 'elementValue': '17.20'},\n",
       " {'elementName': 'D_TXT', 'elementValue': '2021-11-22T08:40:00+08:00'},\n",
       " {'elementName': 'D_TN', 'elementValue': '12.80'},\n",
       " {'elementName': 'D_TNT', 'elementValue': '2021-11-22T17:00:00+08:00'}]"
      ]
     },
     "execution_count": 41,
     "metadata": {},
     "output_type": "execute_result"
    }
   ],
   "source": [
    "datum['location'][0]['weatherElement']"
   ]
  },
  {
   "cell_type": "code",
   "execution_count": 29,
   "metadata": {},
   "outputs": [
    {
     "data": {
      "text/plain": [
       "{'elementName': 'ELEV', 'elementValue': '4.50'}"
      ]
     },
     "execution_count": 29,
     "metadata": {},
     "output_type": "execute_result"
    }
   ],
   "source": [
    "datum['location'][0]['weatherElement'][0]"
   ]
  },
  {
   "cell_type": "code",
   "execution_count": 30,
   "metadata": {},
   "outputs": [
    {
     "data": {
      "text/plain": [
       "{'obsTime': '2021-11-22 17:10:00'}"
      ]
     },
     "execution_count": 30,
     "metadata": {},
     "output_type": "execute_result"
    }
   ],
   "source": [
    "datum['location'][0]['time']"
   ]
  },
  {
   "cell_type": "code",
   "execution_count": 42,
   "metadata": {},
   "outputs": [
    {
     "data": {
      "text/plain": [
       "{'elementName': 'D_TXT', 'elementValue': '2021-11-22T08:40:00+08:00'}"
      ]
     },
     "execution_count": 42,
     "metadata": {},
     "output_type": "execute_result"
    }
   ],
   "source": [
    "datum['location'][0]['weatherElement'][11]"
   ]
  },
  {
   "cell_type": "code",
   "execution_count": 43,
   "metadata": {},
   "outputs": [
    {
     "data": {
      "text/plain": [
       "{'elementName': 'H_24R', 'elementValue': '-99'}"
      ]
     },
     "execution_count": 43,
     "metadata": {},
     "output_type": "execute_result"
    }
   ],
   "source": [
    "datum['location'][0]['weatherElement'][6]"
   ]
  },
  {
   "cell_type": "code",
   "execution_count": null,
   "metadata": {},
   "outputs": [],
   "source": []
  }
 ],
 "metadata": {
  "kernelspec": {
   "display_name": "Python 3",
   "language": "python",
   "name": "python3"
  },
  "language_info": {
   "codemirror_mode": {
    "name": "ipython",
    "version": 3
   },
   "file_extension": ".py",
   "mimetype": "text/x-python",
   "name": "python",
   "nbconvert_exporter": "python",
   "pygments_lexer": "ipython3",
   "version": "3.8.3"
  }
 },
 "nbformat": 4,
 "nbformat_minor": 4
}
