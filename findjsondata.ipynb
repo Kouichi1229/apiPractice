{
 "cells": [
  {
   "cell_type": "raw",
   "metadata": {},
   "source": [
    "import requests\n",
    "import json\n",
    "import pandas as pd\n",
    "\n",
    "url\n",
    "res=requests.get(url, verify=False) #http\n",
    "res=requests.get(url) #https\n",
    "res.status_code\n",
    "datum = res.json()"
   ]
  },
  {
   "cell_type": "code",
   "execution_count": 1,
   "metadata": {},
   "outputs": [],
   "source": [
    "import requests\n",
    "import json\n",
    "import pandas as pd"
   ]
  },
  {
   "cell_type": "code",
   "execution_count": 2,
   "metadata": {},
   "outputs": [],
   "source": [
    "url='https://opendata.cwb.gov.tw/api/v1/rest/datastore/O-A0001-001?Authorization=CWB-1EF84EFB-3A18-45EE-AF0A-5BB8D44C13F1&elementName=WDSD,TEMP,HUMD,H_24R&parameterName%EF%BC%8C='"
   ]
  },
  {
   "cell_type": "code",
   "execution_count": 3,
   "metadata": {},
   "outputs": [],
   "source": [
    "res=requests.get(url)"
   ]
  },
  {
   "cell_type": "code",
   "execution_count": 4,
   "metadata": {},
   "outputs": [
    {
     "data": {
      "text/plain": [
       "200"
      ]
     },
     "execution_count": 4,
     "metadata": {},
     "output_type": "execute_result"
    }
   ],
   "source": [
    "res.status_code"
   ]
  },
  {
   "cell_type": "code",
   "execution_count": 5,
   "metadata": {},
   "outputs": [],
   "source": [
    "datum = res.json()"
   ]
  },
  {
   "cell_type": "code",
   "execution_count": 6,
   "metadata": {},
   "outputs": [],
   "source": [
    "datum=datum['records']"
   ]
  },
  {
   "cell_type": "code",
   "execution_count": 8,
   "metadata": {},
   "outputs": [],
   "source": [
    "datum=datum['location']"
   ]
  },
  {
   "cell_type": "code",
   "execution_count": 36,
   "metadata": {},
   "outputs": [
    {
     "data": {
      "text/plain": [
       "{'lat': '24.778333',\n",
       " 'lon': '121.494583',\n",
       " 'locationName': '福山',\n",
       " 'stationId': 'C0A560',\n",
       " 'time': {'obsTime': '2021-11-23 12:00:00'},\n",
       " 'weatherElement': [{'elementName': 'WDSD', 'elementValue': '1.0'},\n",
       "  {'elementName': 'TEMP', 'elementValue': '11.7'},\n",
       "  {'elementName': 'HUMD', 'elementValue': '1'},\n",
       "  {'elementName': 'H_24R', 'elementValue': '5.5'}],\n",
       " 'parameter': [{'parameterName': 'CITY', 'parameterValue': '新北市'},\n",
       "  {'parameterName': 'CITY_SN', 'parameterValue': '06'},\n",
       "  {'parameterName': 'TOWN', 'parameterValue': '烏來區'},\n",
       "  {'parameterName': 'TOWN_SN', 'parameterValue': '061'}]}"
      ]
     },
     "execution_count": 36,
     "metadata": {},
     "output_type": "execute_result"
    }
   ],
   "source": [
    "datum[0]"
   ]
  },
  {
   "cell_type": "code",
   "execution_count": 15,
   "metadata": {},
   "outputs": [
    {
     "data": {
      "text/plain": [
       "'新北市'"
      ]
     },
     "execution_count": 15,
     "metadata": {},
     "output_type": "execute_result"
    }
   ],
   "source": [
    "datum[0]['parameter'][0]['parameterValue']"
   ]
  },
  {
   "cell_type": "code",
   "execution_count": 19,
   "metadata": {},
   "outputs": [
    {
     "data": {
      "text/plain": [
       "'C0A560'"
      ]
     },
     "execution_count": 19,
     "metadata": {},
     "output_type": "execute_result"
    }
   ],
   "source": [
    "datum[0]['stationId']"
   ]
  },
  {
   "cell_type": "code",
   "execution_count": 30,
   "metadata": {},
   "outputs": [
    {
     "data": {
      "text/plain": [
       "{'lat': '25.177333',\n",
       " 'lon': '121.514167',\n",
       " 'locationName': '大屯山',\n",
       " 'stationId': 'C0AC40',\n",
       " 'time': {'obsTime': '2021-11-23 12:00:00'},\n",
       " 'weatherElement': [{'elementName': 'WDSD', 'elementValue': '3.2'},\n",
       "  {'elementName': 'TEMP', 'elementValue': '-99'},\n",
       "  {'elementName': 'HUMD', 'elementValue': '1'},\n",
       "  {'elementName': 'H_24R', 'elementValue': '7.5'}],\n",
       " 'parameter': [{'parameterName': 'CITY', 'parameterValue': '臺北市'},\n",
       "  {'parameterName': 'CITY_SN', 'parameterValue': '01'},\n",
       "  {'parameterName': 'TOWN', 'parameterValue': '北投區'},\n",
       "  {'parameterName': 'TOWN_SN', 'parameterValue': '006'}]}"
      ]
     },
     "execution_count": 30,
     "metadata": {},
     "output_type": "execute_result"
    }
   ],
   "source": [
    "datum[62]"
   ]
  },
  {
   "cell_type": "code",
   "execution_count": 33,
   "metadata": {},
   "outputs": [
    {
     "data": {
      "text/plain": [
       "{'lat': '25.081206',\n",
       " 'lon': '121.567222',\n",
       " 'locationName': '內湖',\n",
       " 'stationId': 'C0A9F0',\n",
       " 'time': {'obsTime': '2021-11-23 12:00:00'},\n",
       " 'weatherElement': [{'elementName': 'WDSD', 'elementValue': '0.5'},\n",
       "  {'elementName': 'TEMP', 'elementValue': '-99'},\n",
       "  {'elementName': 'HUMD', 'elementValue': '-99'},\n",
       "  {'elementName': 'H_24R', 'elementValue': '1.5'}],\n",
       " 'parameter': [{'parameterName': 'CITY', 'parameterValue': '臺北市'},\n",
       "  {'parameterName': 'CITY_SN', 'parameterValue': '01'},\n",
       "  {'parameterName': 'TOWN', 'parameterValue': '內湖區'},\n",
       "  {'parameterName': 'TOWN_SN', 'parameterValue': '021'}]}"
      ]
     },
     "execution_count": 33,
     "metadata": {},
     "output_type": "execute_result"
    }
   ],
   "source": [
    "datum[226]"
   ]
  },
  {
   "cell_type": "code",
   "execution_count": 35,
   "metadata": {},
   "outputs": [
    {
     "data": {
      "text/plain": [
       "'01'"
      ]
     },
     "execution_count": 35,
     "metadata": {},
     "output_type": "execute_result"
    }
   ],
   "source": [
    "datum[226]['parameter'][1]['parameterValue']"
   ]
  },
  {
   "cell_type": "code",
   "execution_count": 32,
   "metadata": {},
   "outputs": [
    {
     "name": "stdout",
     "output_type": "stream",
     "text": [
      "226\n"
     ]
    }
   ],
   "source": [
    "for i in range(0,len(datum)):\n",
    "    if datum[i]['stationId']=='C0A9F0':\n",
    "        print(i)\n",
    "    "
   ]
  },
  {
   "cell_type": "code",
   "execution_count": 11,
   "metadata": {},
   "outputs": [
    {
     "data": {
      "text/plain": [
       "435"
      ]
     },
     "execution_count": 11,
     "metadata": {},
     "output_type": "execute_result"
    }
   ],
   "source": [
    "len(datum['location'])"
   ]
  },
  {
   "cell_type": "code",
   "execution_count": 12,
   "metadata": {},
   "outputs": [
    {
     "data": {
      "text/plain": [
       "{'obsTime': '2021-11-22 23:00:00'}"
      ]
     },
     "execution_count": 12,
     "metadata": {},
     "output_type": "execute_result"
    }
   ],
   "source": [
    "datum['location'][0]['time']"
   ]
  },
  {
   "cell_type": "code",
   "execution_count": 14,
   "metadata": {},
   "outputs": [
    {
     "data": {
      "text/plain": [
       "{'elementName': 'TEMP', 'elementValue': '11.7'}"
      ]
     },
     "execution_count": 14,
     "metadata": {},
     "output_type": "execute_result"
    }
   ],
   "source": [
    "datum['location'][0]['weatherElement'][1]"
   ]
  },
  {
   "cell_type": "code",
   "execution_count": 60,
   "metadata": {},
   "outputs": [
    {
     "data": {
      "text/plain": [
       "'陰短暫雨'"
      ]
     },
     "execution_count": 60,
     "metadata": {},
     "output_type": "execute_result"
    }
   ],
   "source": [
    "datum['location'][0]['weatherElement'][0]['time'][0]['parameter']['parameterName']"
   ]
  },
  {
   "cell_type": "code",
   "execution_count": 61,
   "metadata": {},
   "outputs": [
    {
     "data": {
      "text/plain": [
       "{'elementName': 'MaxT',\n",
       " 'time': [{'startTime': '2021-11-22 18:00:00',\n",
       "   'endTime': '2021-11-23 06:00:00',\n",
       "   'parameter': {'parameterName': '17', 'parameterUnit': 'C'}},\n",
       "  {'startTime': '2021-11-23 06:00:00',\n",
       "   'endTime': '2021-11-23 18:00:00',\n",
       "   'parameter': {'parameterName': '17', 'parameterUnit': 'C'}},\n",
       "  {'startTime': '2021-11-23 18:00:00',\n",
       "   'endTime': '2021-11-24 06:00:00',\n",
       "   'parameter': {'parameterName': '16', 'parameterUnit': 'C'}}]}"
      ]
     },
     "execution_count": 61,
     "metadata": {},
     "output_type": "execute_result"
    }
   ],
   "source": [
    "datum['location'][0]['weatherElement'][4]"
   ]
  },
  {
   "cell_type": "code",
   "execution_count": 63,
   "metadata": {},
   "outputs": [
    {
     "data": {
      "text/plain": [
       "{'elementName': 'MinT',\n",
       " 'time': [{'startTime': '2021-11-22 18:00:00',\n",
       "   'endTime': '2021-11-23 06:00:00',\n",
       "   'parameter': {'parameterName': '14', 'parameterUnit': 'C'}},\n",
       "  {'startTime': '2021-11-23 06:00:00',\n",
       "   'endTime': '2021-11-23 18:00:00',\n",
       "   'parameter': {'parameterName': '14', 'parameterUnit': 'C'}},\n",
       "  {'startTime': '2021-11-23 18:00:00',\n",
       "   'endTime': '2021-11-24 06:00:00',\n",
       "   'parameter': {'parameterName': '16', 'parameterUnit': 'C'}}]}"
      ]
     },
     "execution_count": 63,
     "metadata": {},
     "output_type": "execute_result"
    }
   ],
   "source": [
    "datum['location'][0]['weatherElement'][2]"
   ]
  },
  {
   "cell_type": "code",
   "execution_count": 64,
   "metadata": {},
   "outputs": [
    {
     "data": {
      "text/plain": [
       "{'elementName': 'PoP',\n",
       " 'time': [{'startTime': '2021-11-22 18:00:00',\n",
       "   'endTime': '2021-11-23 06:00:00',\n",
       "   'parameter': {'parameterName': '80', 'parameterUnit': '百分比'}},\n",
       "  {'startTime': '2021-11-23 06:00:00',\n",
       "   'endTime': '2021-11-23 18:00:00',\n",
       "   'parameter': {'parameterName': '60', 'parameterUnit': '百分比'}},\n",
       "  {'startTime': '2021-11-23 18:00:00',\n",
       "   'endTime': '2021-11-24 06:00:00',\n",
       "   'parameter': {'parameterName': '10', 'parameterUnit': '百分比'}}]}"
      ]
     },
     "execution_count": 64,
     "metadata": {},
     "output_type": "execute_result"
    }
   ],
   "source": [
    "datum['location'][0]['weatherElement'][1]"
   ]
  },
  {
   "cell_type": "code",
   "execution_count": 43,
   "metadata": {},
   "outputs": [
    {
     "data": {
      "text/plain": [
       "{'elementName': 'H_24R', 'elementValue': '-99'}"
      ]
     },
     "execution_count": 43,
     "metadata": {},
     "output_type": "execute_result"
    }
   ],
   "source": [
    "datum['location'][0]['weatherElement'][6]"
   ]
  },
  {
   "cell_type": "code",
   "execution_count": 37,
   "metadata": {},
   "outputs": [],
   "source": [
    "url2='https://opendata.cwb.gov.tw/api/v1/rest/datastore/O-A0003-001?Authorization=CWB-1EF84EFB-3A18-45EE-AF0A-5BB8D44C13F1&elementName=TIME,WDSD,TEMP,HUMD,24R,Weather&parameterName=CITY,CITY_SN'"
   ]
  },
  {
   "cell_type": "code",
   "execution_count": 38,
   "metadata": {},
   "outputs": [],
   "source": [
    "res2=requests.get(url2) #https\n",
    "res2.status_code\n",
    "datum2 = res2.json()"
   ]
  },
  {
   "cell_type": "code",
   "execution_count": 40,
   "metadata": {},
   "outputs": [],
   "source": [
    "datum2 = datum2['records']"
   ]
  },
  {
   "cell_type": "code",
   "execution_count": 44,
   "metadata": {},
   "outputs": [],
   "source": [
    "datum2 = datum2['location']"
   ]
  },
  {
   "cell_type": "code",
   "execution_count": 45,
   "metadata": {},
   "outputs": [
    {
     "data": {
      "text/plain": [
       "{'lat': '10.371770',\n",
       " 'lon': '114.356682',\n",
       " 'locationName': '南沙島',\n",
       " 'stationId': '469020',\n",
       " 'time': {'obsTime': '2021-11-23 14:00:00'},\n",
       " 'weatherElement': [{'elementName': 'WDSD', 'elementValue': '4'},\n",
       "  {'elementName': 'TEMP', 'elementValue': '31.10'},\n",
       "  {'elementName': 'HUMD', 'elementValue': '0.77'},\n",
       "  {'elementName': '24R', 'elementValue': '1'},\n",
       "  {'elementName': 'Weather', 'elementValue': '-99'}],\n",
       " 'parameter': [{'parameterName': 'CITY', 'parameterValue': '高雄市'},\n",
       "  {'parameterName': 'CITY_SN', 'parameterValue': '05'}]}"
      ]
     },
     "execution_count": 45,
     "metadata": {},
     "output_type": "execute_result"
    }
   ],
   "source": [
    "datum2[0]"
   ]
  },
  {
   "cell_type": "code",
   "execution_count": 54,
   "metadata": {},
   "outputs": [
    {
     "name": "stdout",
     "output_type": "stream",
     "text": [
      "9\n",
      "12\n",
      "83\n",
      "95\n",
      "101\n",
      "116\n"
     ]
    }
   ],
   "source": [
    "for i in range(0,len(datum2)):\n",
    "    if datum2[i]['parameter'][0]['parameterValue']=='臺北市':\n",
    "        print(i)\n",
    "    "
   ]
  },
  {
   "cell_type": "code",
   "execution_count": 50,
   "metadata": {},
   "outputs": [
    {
     "data": {
      "text/plain": [
       "{'lat': '25.166689',\n",
       " 'lon': '121.440690',\n",
       " 'locationName': '淡水',\n",
       " 'stationId': '466900',\n",
       " 'time': {'obsTime': '2021-11-23 14:00:00'},\n",
       " 'weatherElement': [{'elementName': 'WDSD', 'elementValue': '1.30'},\n",
       "  {'elementName': 'TEMP', 'elementValue': '14.80'},\n",
       "  {'elementName': 'HUMD', 'elementValue': '0.83'},\n",
       "  {'elementName': '24R', 'elementValue': '0.50'},\n",
       "  {'elementName': 'Weather', 'elementValue': '陰'}],\n",
       " 'parameter': [{'parameterName': 'CITY', 'parameterValue': '新北市'},\n",
       "  {'parameterName': 'CITY_SN', 'parameterValue': '06'}]}"
      ]
     },
     "execution_count": 50,
     "metadata": {},
     "output_type": "execute_result"
    }
   ],
   "source": [
    "datum2[31]"
   ]
  },
  {
   "cell_type": "code",
   "execution_count": 55,
   "metadata": {},
   "outputs": [
    {
     "data": {
      "text/plain": [
       "{'lat': '25.031331',\n",
       " 'lon': '121.528056',\n",
       " 'locationName': '大安森林',\n",
       " 'stationId': 'CAAH60',\n",
       " 'time': {'obsTime': '2021-11-23 14:00:00'},\n",
       " 'weatherElement': [{'elementName': 'WDSD', 'elementValue': '0.30'},\n",
       "  {'elementName': 'TEMP', 'elementValue': '14.70'},\n",
       "  {'elementName': 'HUMD', 'elementValue': '0.99'},\n",
       "  {'elementName': '24R', 'elementValue': '2.50'},\n",
       "  {'elementName': 'Weather', 'elementValue': '陰'}],\n",
       " 'parameter': [{'parameterName': 'CITY', 'parameterValue': '臺北市'},\n",
       "  {'parameterName': 'CITY_SN', 'parameterValue': '01'}]}"
      ]
     },
     "execution_count": 55,
     "metadata": {},
     "output_type": "execute_result"
    }
   ],
   "source": [
    "datum2[9]"
   ]
  },
  {
   "cell_type": "code",
   "execution_count": null,
   "metadata": {},
   "outputs": [],
   "source": []
  }
 ],
 "metadata": {
  "kernelspec": {
   "display_name": "Python 3",
   "language": "python",
   "name": "python3"
  },
  "language_info": {
   "codemirror_mode": {
    "name": "ipython",
    "version": 3
   },
   "file_extension": ".py",
   "mimetype": "text/x-python",
   "name": "python",
   "nbconvert_exporter": "python",
   "pygments_lexer": "ipython3",
   "version": "3.8.3"
  }
 },
 "nbformat": 4,
 "nbformat_minor": 4
}
