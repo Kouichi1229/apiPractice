{
 "cells": [
  {
   "cell_type": "raw",
   "metadata": {},
   "source": [
    "import requests\n",
    "import json\n",
    "import pandas as pd\n",
    "\n",
    "url\n",
    "res=requests.get(url, verify=False) #http\n",
    "res=requests.get(url) #https\n",
    "res.status_code\n",
    "datum = res.json()"
   ]
  },
  {
   "cell_type": "code",
   "execution_count": 1,
   "metadata": {},
   "outputs": [],
   "source": [
    "import requests\n",
    "import json\n",
    "import pandas as pd"
   ]
  },
  {
   "cell_type": "code",
   "execution_count": 44,
   "metadata": {},
   "outputs": [],
   "source": [
    "url='https://opendata.cwb.gov.tw/api/v1/rest/datastore/F-C0032-001?Authorization=CWB-1EF84EFB-3A18-45EE-AF0A-5BB8D44C13F1&locationName=%E8%87%BA%E5%8C%97%E5%B8%82,%E6%96%B0%E5%8C%97%E5%B8%82'"
   ]
  },
  {
   "cell_type": "code",
   "execution_count": 45,
   "metadata": {},
   "outputs": [],
   "source": [
    "res=requests.get(url)"
   ]
  },
  {
   "cell_type": "code",
   "execution_count": 46,
   "metadata": {},
   "outputs": [
    {
     "data": {
      "text/plain": [
       "200"
      ]
     },
     "execution_count": 46,
     "metadata": {},
     "output_type": "execute_result"
    }
   ],
   "source": [
    "res.status_code"
   ]
  },
  {
   "cell_type": "code",
   "execution_count": 47,
   "metadata": {},
   "outputs": [],
   "source": [
    "datum = res.json()"
   ]
  },
  {
   "cell_type": "code",
   "execution_count": 48,
   "metadata": {},
   "outputs": [],
   "source": [
    "datum=datum['records']"
   ]
  },
  {
   "cell_type": "code",
   "execution_count": 49,
   "metadata": {},
   "outputs": [
    {
     "data": {
      "text/plain": [
       "{'locationName': '新北市',\n",
       " 'weatherElement': [{'elementName': 'Wx',\n",
       "   'time': [{'startTime': '2021-11-22 18:00:00',\n",
       "     'endTime': '2021-11-23 06:00:00',\n",
       "     'parameter': {'parameterName': '陰短暫雨', 'parameterValue': '11'}},\n",
       "    {'startTime': '2021-11-23 06:00:00',\n",
       "     'endTime': '2021-11-23 18:00:00',\n",
       "     'parameter': {'parameterName': '陰短暫雨', 'parameterValue': '11'}},\n",
       "    {'startTime': '2021-11-23 18:00:00',\n",
       "     'endTime': '2021-11-24 06:00:00',\n",
       "     'parameter': {'parameterName': '陰天', 'parameterValue': '7'}}]},\n",
       "  {'elementName': 'PoP',\n",
       "   'time': [{'startTime': '2021-11-22 18:00:00',\n",
       "     'endTime': '2021-11-23 06:00:00',\n",
       "     'parameter': {'parameterName': '80', 'parameterUnit': '百分比'}},\n",
       "    {'startTime': '2021-11-23 06:00:00',\n",
       "     'endTime': '2021-11-23 18:00:00',\n",
       "     'parameter': {'parameterName': '60', 'parameterUnit': '百分比'}},\n",
       "    {'startTime': '2021-11-23 18:00:00',\n",
       "     'endTime': '2021-11-24 06:00:00',\n",
       "     'parameter': {'parameterName': '10', 'parameterUnit': '百分比'}}]},\n",
       "  {'elementName': 'MinT',\n",
       "   'time': [{'startTime': '2021-11-22 18:00:00',\n",
       "     'endTime': '2021-11-23 06:00:00',\n",
       "     'parameter': {'parameterName': '14', 'parameterUnit': 'C'}},\n",
       "    {'startTime': '2021-11-23 06:00:00',\n",
       "     'endTime': '2021-11-23 18:00:00',\n",
       "     'parameter': {'parameterName': '14', 'parameterUnit': 'C'}},\n",
       "    {'startTime': '2021-11-23 18:00:00',\n",
       "     'endTime': '2021-11-24 06:00:00',\n",
       "     'parameter': {'parameterName': '16', 'parameterUnit': 'C'}}]},\n",
       "  {'elementName': 'CI',\n",
       "   'time': [{'startTime': '2021-11-22 18:00:00',\n",
       "     'endTime': '2021-11-23 06:00:00',\n",
       "     'parameter': {'parameterName': '寒冷至稍有寒意'}},\n",
       "    {'startTime': '2021-11-23 06:00:00',\n",
       "     'endTime': '2021-11-23 18:00:00',\n",
       "     'parameter': {'parameterName': '寒冷至稍有寒意'}},\n",
       "    {'startTime': '2021-11-23 18:00:00',\n",
       "     'endTime': '2021-11-24 06:00:00',\n",
       "     'parameter': {'parameterName': '稍有寒意'}}]},\n",
       "  {'elementName': 'MaxT',\n",
       "   'time': [{'startTime': '2021-11-22 18:00:00',\n",
       "     'endTime': '2021-11-23 06:00:00',\n",
       "     'parameter': {'parameterName': '17', 'parameterUnit': 'C'}},\n",
       "    {'startTime': '2021-11-23 06:00:00',\n",
       "     'endTime': '2021-11-23 18:00:00',\n",
       "     'parameter': {'parameterName': '17', 'parameterUnit': 'C'}},\n",
       "    {'startTime': '2021-11-23 18:00:00',\n",
       "     'endTime': '2021-11-24 06:00:00',\n",
       "     'parameter': {'parameterName': '16', 'parameterUnit': 'C'}}]}]}"
      ]
     },
     "execution_count": 49,
     "metadata": {},
     "output_type": "execute_result"
    }
   ],
   "source": [
    "datum['location'][0]"
   ]
  },
  {
   "cell_type": "code",
   "execution_count": 51,
   "metadata": {},
   "outputs": [
    {
     "data": {
      "text/plain": [
       "2"
      ]
     },
     "execution_count": 51,
     "metadata": {},
     "output_type": "execute_result"
    }
   ],
   "source": [
    "len(datum['location'])"
   ]
  },
  {
   "cell_type": "code",
   "execution_count": 53,
   "metadata": {},
   "outputs": [
    {
     "data": {
      "text/plain": [
       "{'elementName': 'Wx',\n",
       " 'time': [{'startTime': '2021-11-22 18:00:00',\n",
       "   'endTime': '2021-11-23 06:00:00',\n",
       "   'parameter': {'parameterName': '陰短暫雨', 'parameterValue': '11'}},\n",
       "  {'startTime': '2021-11-23 06:00:00',\n",
       "   'endTime': '2021-11-23 18:00:00',\n",
       "   'parameter': {'parameterName': '陰短暫雨', 'parameterValue': '11'}},\n",
       "  {'startTime': '2021-11-23 18:00:00',\n",
       "   'endTime': '2021-11-24 06:00:00',\n",
       "   'parameter': {'parameterName': '陰天', 'parameterValue': '7'}}]}"
      ]
     },
     "execution_count": 53,
     "metadata": {},
     "output_type": "execute_result"
    }
   ],
   "source": [
    "datum['location'][0]['weatherElement'][0]"
   ]
  },
  {
   "cell_type": "code",
   "execution_count": 60,
   "metadata": {},
   "outputs": [
    {
     "data": {
      "text/plain": [
       "'陰短暫雨'"
      ]
     },
     "execution_count": 60,
     "metadata": {},
     "output_type": "execute_result"
    }
   ],
   "source": [
    "datum['location'][0]['weatherElement'][0]['time'][0]['parameter']['parameterName']"
   ]
  },
  {
   "cell_type": "code",
   "execution_count": 61,
   "metadata": {},
   "outputs": [
    {
     "data": {
      "text/plain": [
       "{'elementName': 'MaxT',\n",
       " 'time': [{'startTime': '2021-11-22 18:00:00',\n",
       "   'endTime': '2021-11-23 06:00:00',\n",
       "   'parameter': {'parameterName': '17', 'parameterUnit': 'C'}},\n",
       "  {'startTime': '2021-11-23 06:00:00',\n",
       "   'endTime': '2021-11-23 18:00:00',\n",
       "   'parameter': {'parameterName': '17', 'parameterUnit': 'C'}},\n",
       "  {'startTime': '2021-11-23 18:00:00',\n",
       "   'endTime': '2021-11-24 06:00:00',\n",
       "   'parameter': {'parameterName': '16', 'parameterUnit': 'C'}}]}"
      ]
     },
     "execution_count": 61,
     "metadata": {},
     "output_type": "execute_result"
    }
   ],
   "source": [
    "datum['location'][0]['weatherElement'][4]"
   ]
  },
  {
   "cell_type": "code",
   "execution_count": 63,
   "metadata": {},
   "outputs": [
    {
     "data": {
      "text/plain": [
       "{'elementName': 'MinT',\n",
       " 'time': [{'startTime': '2021-11-22 18:00:00',\n",
       "   'endTime': '2021-11-23 06:00:00',\n",
       "   'parameter': {'parameterName': '14', 'parameterUnit': 'C'}},\n",
       "  {'startTime': '2021-11-23 06:00:00',\n",
       "   'endTime': '2021-11-23 18:00:00',\n",
       "   'parameter': {'parameterName': '14', 'parameterUnit': 'C'}},\n",
       "  {'startTime': '2021-11-23 18:00:00',\n",
       "   'endTime': '2021-11-24 06:00:00',\n",
       "   'parameter': {'parameterName': '16', 'parameterUnit': 'C'}}]}"
      ]
     },
     "execution_count": 63,
     "metadata": {},
     "output_type": "execute_result"
    }
   ],
   "source": [
    "datum['location'][0]['weatherElement'][2]"
   ]
  },
  {
   "cell_type": "code",
   "execution_count": 64,
   "metadata": {},
   "outputs": [
    {
     "data": {
      "text/plain": [
       "{'elementName': 'PoP',\n",
       " 'time': [{'startTime': '2021-11-22 18:00:00',\n",
       "   'endTime': '2021-11-23 06:00:00',\n",
       "   'parameter': {'parameterName': '80', 'parameterUnit': '百分比'}},\n",
       "  {'startTime': '2021-11-23 06:00:00',\n",
       "   'endTime': '2021-11-23 18:00:00',\n",
       "   'parameter': {'parameterName': '60', 'parameterUnit': '百分比'}},\n",
       "  {'startTime': '2021-11-23 18:00:00',\n",
       "   'endTime': '2021-11-24 06:00:00',\n",
       "   'parameter': {'parameterName': '10', 'parameterUnit': '百分比'}}]}"
      ]
     },
     "execution_count": 64,
     "metadata": {},
     "output_type": "execute_result"
    }
   ],
   "source": [
    "datum['location'][0]['weatherElement'][1]"
   ]
  },
  {
   "cell_type": "code",
   "execution_count": 43,
   "metadata": {},
   "outputs": [
    {
     "data": {
      "text/plain": [
       "{'elementName': 'H_24R', 'elementValue': '-99'}"
      ]
     },
     "execution_count": 43,
     "metadata": {},
     "output_type": "execute_result"
    }
   ],
   "source": [
    "datum['location'][0]['weatherElement'][6]"
   ]
  },
  {
   "cell_type": "code",
   "execution_count": null,
   "metadata": {},
   "outputs": [],
   "source": []
  }
 ],
 "metadata": {
  "kernelspec": {
   "display_name": "Python 3",
   "language": "python",
   "name": "python3"
  },
  "language_info": {
   "codemirror_mode": {
    "name": "ipython",
    "version": 3
   },
   "file_extension": ".py",
   "mimetype": "text/x-python",
   "name": "python",
   "nbconvert_exporter": "python",
   "pygments_lexer": "ipython3",
   "version": "3.8.3"
  }
 },
 "nbformat": 4,
 "nbformat_minor": 4
}
